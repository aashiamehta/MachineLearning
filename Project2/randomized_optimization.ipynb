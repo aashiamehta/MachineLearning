{
 "cells": [
  {
   "cell_type": "markdown",
   "id": "f96421e2",
   "metadata": {},
   "source": [
    "# Aashia Mehta\n",
    "# CS 7641: Machine Learning\n",
    "# Project 2: Randomized Optimization"
   ]
  },
  {
   "cell_type": "code",
   "execution_count": 1,
   "id": "88bb5ad3",
   "metadata": {},
   "outputs": [],
   "source": [
    "import numpy as np\n",
    "import matplotlib.pyplot as plt\n",
    "import time\n",
    "\n",
    "# Import Error Workaround\n",
    "import six\n",
    "import sys\n",
    "sys.modules['sklearn.externals.six'] = six\n",
    "\n",
    "import mlrose"
   ]
  },
  {
   "cell_type": "markdown",
   "id": "ff0b8d16",
   "metadata": {},
   "source": [
    "## 4 Peaks"
   ]
  },
  {
   "cell_type": "markdown",
   "id": "a6851c3f",
   "metadata": {},
   "source": [
    "## N Queens"
   ]
  },
  {
   "cell_type": "markdown",
   "id": "ae6d3a5b",
   "metadata": {},
   "source": [
    "## Knapsack"
   ]
  },
  {
   "cell_type": "markdown",
   "id": "ff410f1f",
   "metadata": {},
   "source": [
    "## Neural Networks"
   ]
  },
  {
   "cell_type": "code",
   "execution_count": null,
   "id": "965a8249",
   "metadata": {},
   "outputs": [],
   "source": [
    "# https://archive.ics.uci.edu/ml/datasets/wine+quality\n",
    "wine_dataset = pd.read_csv('wine_quality.csv')  \n",
    "print(\"# of Rows: \", len(wine_dataset))\n",
    "print(\"# of Columns: \", len(wine_dataset.columns))\n",
    "\n",
    "# https://pandas.pydata.org/pandas-docs/version/0.23/generated/pandas.DataFrame.shape.html\n",
    "wine_X = wine_dataset.iloc[:,:-1]\n",
    "wine_Y = wine_dataset.iloc[: , -1]\n",
    "print(\"X Shape: \", wine_X.shape)\n",
    "print(\"Y Shape: \", wine_Y.shape)\n",
    "\n",
    "# https://scikit-learn.org/stable/modules/generated/sklearn.model_selection.train_test_split.html\n",
    "# 30-70 split\n",
    "wine_X_train, wine_X_test, wine_Y_train, wine_Y_test = train_test_split(wine_X, wine_Y, test_size=0.30, random_state=5)\n",
    "print(\"X Train Shape: \", wine_X_train.shape)\n",
    "print(\"X Test Shape: \", wine_X_test.shape)\n",
    "print(\"Y Train Shape: \", wine_Y_train.shape)\n",
    "print(\"Y Test Shape: \", wine_Y_test.shape)\n",
    "\n",
    "wine_dataset.head()"
   ]
  }
 ],
 "metadata": {
  "kernelspec": {
   "display_name": "Python 3 (ipykernel)",
   "language": "python",
   "name": "python3"
  },
  "language_info": {
   "codemirror_mode": {
    "name": "ipython",
    "version": 3
   },
   "file_extension": ".py",
   "mimetype": "text/x-python",
   "name": "python",
   "nbconvert_exporter": "python",
   "pygments_lexer": "ipython3",
   "version": "3.7.13"
  }
 },
 "nbformat": 4,
 "nbformat_minor": 5
}
