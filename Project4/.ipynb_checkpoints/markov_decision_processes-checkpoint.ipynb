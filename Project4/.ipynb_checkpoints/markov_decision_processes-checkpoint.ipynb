{
 "cells": [
  {
   "cell_type": "markdown",
   "id": "d5ec399b",
   "metadata": {},
   "source": [
    "# Aashia Mehta\n",
    "# CS 7641: Machine Learning\n",
    "# Project 4: Markov Decision Processes"
   ]
  },
  {
   "cell_type": "code",
   "execution_count": 2,
   "id": "554773e1",
   "metadata": {},
   "outputs": [],
   "source": [
    "import numpy as np\n",
    "import pandas as pd\n",
    "import matplotlib.pyplot as plt\n",
    "import time"
   ]
  },
  {
   "cell_type": "code",
   "execution_count": null,
   "id": "ecfd708d",
   "metadata": {},
   "outputs": [],
   "source": []
  }
 ],
 "metadata": {
  "kernelspec": {
   "display_name": "Python 3 (ipykernel)",
   "language": "python",
   "name": "python3"
  },
  "language_info": {
   "codemirror_mode": {
    "name": "ipython",
    "version": 3
   },
   "file_extension": ".py",
   "mimetype": "text/x-python",
   "name": "python",
   "nbconvert_exporter": "python",
   "pygments_lexer": "ipython3",
   "version": "3.7.13"
  }
 },
 "nbformat": 4,
 "nbformat_minor": 5
}
